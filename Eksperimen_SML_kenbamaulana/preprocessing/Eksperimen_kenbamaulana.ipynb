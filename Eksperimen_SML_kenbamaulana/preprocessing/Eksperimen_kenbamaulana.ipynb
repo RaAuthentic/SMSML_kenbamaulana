{
 "cells": [
  {
   "cell_type": "markdown",
   "id": "2ea0d914-eea5-4263-850a-44de86ae7cc6",
   "metadata": {},
   "source": [
    "# **1. Perkenalan Dataset**"
   ]
  },
  {
   "cell_type": "markdown",
   "id": "402327ca-4867-4ebc-b922-fe7bfb11775f",
   "metadata": {},
   "source": [
    "### 1. Perkenalan Dataset\r\n",
    "\r\n",
    "Dataset yang digunakan dalam proyek ini adalah **Amazon Reviews Polarity Dataset**, yang diambil dari repositori terbuka **Hugging Face Datasets** (`amazon_polarity`).\r\n",
    "\r\n",
    "Dataset ini berisi kumpulan **ulasan produk dari pelanggan Amazon** yang telah diklasifikasikan ke dalam dua kategori sentimen:\r\n",
    "\r\n",
    "- `1` → **Ulasan Positif**\r\n",
    "- `0` → **Ulasan Negatif**\r\n",
    "\r\n",
    "Jumlah total data pada versi lengkap mencapai lebih dari **3 juta sampel**, namun untuk keperluan eksperimen yang efisien dan terukur, digunakan subset berimbang sebanyak:\r\n",
    "\r\n",
    "- **100.000 ulasan positif**\r\n",
    "- **100.000 ulasan negatif**\r\n",
    "\r\n",
    "Pemilihan sampel dilakukan secara **acak (random sampling)** guna menjaga representasi yang adil serta menghindari bias distribusi data.\r\n",
    "\r\n",
    "Dataset ini sangat sesuai untuk tugas klasifikasi teks karena:\r\n",
    "- Ukurannya besar dan memungkinkan pelatihan model skala menengah-besar.\r\n",
    "- Formatnya sederhana (hanya label dan teks).\r\n",
    "- Tidak mengandung informasi sensitif atau pribadi.\r\n",
    "\r\n",
    "**Sumber Dataset:**\r\n",
    "- Hugging Face: [https://huggingface.co/datasets/amazon_polarity](https://huggingface.co/datasets/amazon_polarity)\r\n"
   ]
  },
  {
   "cell_type": "markdown",
   "id": "c96340e8-42f4-4f77-84d5-5c7f61135b16",
   "metadata": {},
   "source": [
    "# **2. Import Library**\n"
   ]
  },
  {
   "cell_type": "markdown",
   "id": "af45658e-8e18-4d01-9cd4-8f354a8db0bb",
   "metadata": {},
   "source": [
    "Pada tahap ini, Saya perlu mengimpor beberapa pustaka (library) Python yang dibutuhkan untuk analisis data dan pembangunan model machine learning atau deep learning."
   ]
  },
  {
   "cell_type": "code",
   "execution_count": 2,
   "id": "06739e92-4c0b-44a8-8897-d7fc1e5bd12e",
   "metadata": {},
   "outputs": [],
   "source": [
    "# import library\n",
    "import pandas as pd\n",
    "import numpy as np\n",
    "import matplotlib.pyplot as plt\n",
    "import seaborn as sns\n",
    "import re\n",
    "import gdown\n",
    "import os"
   ]
  },
  {
   "cell_type": "markdown",
   "id": "7bcc26ed-ee8c-4247-8ecf-caf2775c1233",
   "metadata": {},
   "source": [
    "# **3. Memuat Dataset**"
   ]
  },
  {
   "cell_type": "markdown",
   "id": "63dc0ba1-be31-490e-bf8f-8925906d9aec",
   "metadata": {},
   "source": [
    "Pada tahap ini, Anda perlu memuat dataset ke dalam notebook. Jika dataset dalam format CSV, Anda bisa menggunakan pustaka pandas untuk membacanya. Pastikan untuk mengecek beberapa baris awal dataset untuk memahami strukturnya dan memastikan data telah dimuat dengan benar.\r\n",
    "\r\n",
    "Jika dataset berada di Google Drive, pastikan Anda menghubungkan Google Drive ke Colab terlebih dahulu. Setelah dataset berhasil dimuat, langkah berikutnya adalah memeriksa kesesuaian data dan siap untuk dianalisis lebih lanjut.\r\n",
    "\r\n",
    "Jika dataset berupa unstructured data, silakan sesuaikan dengan format seperti kelas Machine Learning Pengembangan atau Machine Learning Terapan"
   ]
  },
  {
   "cell_type": "code",
   "execution_count": 3,
   "id": "1f85ac15-e525-473c-978c-452685b24cbf",
   "metadata": {},
   "outputs": [
    {
     "name": "stderr",
     "output_type": "stream",
     "text": [
      "Downloading...\n",
      "From (original): https://drive.google.com/uc?id=1gnkJYuGo3Slb2euugnutV_HDFrFDmrdD\n",
      "From (redirected): https://drive.google.com/uc?id=1gnkJYuGo3Slb2euugnutV_HDFrFDmrdD&confirm=t&uuid=ba42dc9c-74c4-4924-8b94-732d42241571\n",
      "To: E:\\Projects\\Working\\Mentor Asah 2025\\Eksperimen_SML_kenbamaulana\\preprocessing\\dataset_amazon_raw.csv\n",
      "100%|█████████████████████████████████████████████████████████████████████████████| 1.57G/1.57G [05:11<00:00, 5.05MB/s]\n"
     ]
    },
    {
     "data": {
      "text/plain": [
       "'dataset_amazon_raw.csv'"
      ]
     },
     "execution_count": 3,
     "metadata": {},
     "output_type": "execute_result"
    }
   ],
   "source": [
    "# # Langkah Pertama Load Data\n",
    "# df = pd.read_csv(\"../dataset_amazon_raw.csv\", low_memory=False)\n",
    "# print(df.head())\n",
    "\n",
    "# Google Drive link (RAW)\n",
    "raw_url = \"https://drive.google.com/uc?id=1gnkJYuGo3Slb2euugnutV_HDFrFDmrdD\"\n",
    "input_path = \"dataset_amazon_raw.csv\"\n",
    "gdown.download(raw_url, input_path, quiet=False)"
   ]
  },
  {
   "cell_type": "code",
   "execution_count": 4,
   "id": "d63c4216-1f8e-414a-bc27-9b6de11ac245",
   "metadata": {},
   "outputs": [
    {
     "name": "stdout",
     "output_type": "stream",
     "text": [
      "   label                                              title  \\\n",
      "0      1                     Stuning even for the non-gamer   \n",
      "1      1              The best soundtrack ever to anything.   \n",
      "2      1                                           Amazing!   \n",
      "3      1                               Excellent Soundtrack   \n",
      "4      1  Remember, Pull Your Jaw Off The Floor After He...   \n",
      "\n",
      "                                             content  \n",
      "0  This sound track was beautiful! It paints the ...  \n",
      "1  I'm reading a lot of reviews saying that this ...  \n",
      "2  This soundtrack is my favorite music of all ti...  \n",
      "3  I truly like this soundtrack and I enjoy video...  \n",
      "4  If you've played the game, you know how divine...  \n"
     ]
    }
   ],
   "source": [
    "# =============================\n",
    "# STEP 4: Load Data\n",
    "# =============================\n",
    "df = pd.read_csv(input_path, low_memory=False)\n",
    "print(df.head())"
   ]
  },
  {
   "cell_type": "markdown",
   "id": "4476c653-8d59-4bcb-b1ce-0ea53bad1935",
   "metadata": {},
   "source": [
    "# **4. Exploratory Data Analysis (EDA)**\r\n",
    "\r\n",
    "Pada tahap inisayada akan melakukan **Exploratory Data Analysis (EDA)** untuk memahami karakteristik dataset.\r\n",
    "\r\n",
    "Tujuan dari EDA adalah untuk memperoleh wawasan awal yang mendalam mengenai data dan menentukan langkah selanjutnya dalam analisis atau pemodelan."
   ]
  },
  {
   "cell_type": "code",
   "execution_count": 13,
   "id": "b3614fa7-fa32-400a-9191-a14a20ee9ec6",
   "metadata": {},
   "outputs": [
    {
     "name": "stdout",
     "output_type": "stream",
     "text": [
      "🔍 Jumlah data: 3599793\n",
      "📊 Distribusi label:\n",
      " label\n",
      "1    1799913\n",
      "0    1799880\n",
      "Name: count, dtype: int64 \n",
      "\n",
      "------------------------------------------------------------------------------\n",
      "📏 Statistik panjang teks:\n",
      " count    3.599793e+06\n",
      "mean     4.051441e+02\n",
      "std      2.342701e+02\n",
      "min      4.000000e+00\n",
      "25%      2.070000e+02\n",
      "50%      3.560000e+02\n",
      "75%      5.660000e+02\n",
      "max      1.010000e+03 \n",
      "\n",
      "📝 Statistik jumlah kata:\n",
      " count    3.599793e+06\n",
      "mean     7.416971e+01\n",
      "std      4.229860e+01\n",
      "min      1.000000e+00\n",
      "25%      3.900000e+01\n",
      "50%      6.600000e+01\n",
      "75%      1.030000e+02\n",
      "max      2.540000e+02 \n",
      "\n",
      "------------------------------------------------------------------------------\n",
      "📌 Rata-rata panjang judul: 24.51 karakter\n",
      "\n",
      "------------------------------------------------------------------------------\n",
      "❓ Missing values:\n",
      " label           0\n",
      "title           0\n",
      "content         0\n",
      "text_length     0\n",
      "word_count      0\n",
      "title_length    0\n",
      "dtype: int64\n"
     ]
    }
   ],
   "source": [
    "# EDA sederhana untuk dataset Amazon raw\n",
    "print(\"🔍 Jumlah data:\", df.shape[0])\n",
    "print(\"📊 Distribusi label:\\n\", df['label'].value_counts(), \"\\n\")\n",
    "\n",
    "print(\"------------------------------------------------------------------------------\")\n",
    "\n",
    "# Panjang teks & jumlah kata\n",
    "df['text_length'] = df['content'].apply(len)\n",
    "df['word_count'] = df['content'].apply(lambda x: len(str(x).split()))\n",
    "\n",
    "print(\"📏 Statistik panjang teks:\\n\", df['text_length'].describe().to_string(), \"\\n\")\n",
    "print(\"📝 Statistik jumlah kata:\\n\", df['word_count'].describe().to_string(), \"\\n\")\n",
    "\n",
    "print(\"------------------------------------------------------------------------------\")\n",
    "# Rata-rata panjang title\n",
    "df['title_length'] = df['title'].apply(lambda x: len(str(x)))\n",
    "print(\"📌 Rata-rata panjang judul:\", round(df['title_length'].mean(), 2), \"karakter\\n\")\n",
    "\n",
    "print(\"------------------------------------------------------------------------------\")\n",
    "\n",
    "# Cek missing value\n",
    "print(\"❓ Missing values:\\n\", df.isnull().sum())"
   ]
  },
  {
   "cell_type": "markdown",
   "id": "79fe1e30-f602-4aec-894b-25e0951bc536",
   "metadata": {},
   "source": [
    "# **5. Data Preprocessing**"
   ]
  },
  {
   "cell_type": "markdown",
   "id": "cfba7c2c-7f0f-451c-b83d-06e3323ab4a0",
   "metadata": {},
   "source": [
    "Pada tahap ini, data preprocessing adalah langkah penting untuk memastikan kualitas data sebelum digunakan dalam model machine learning.\r\n",
    "\r\n",
    "Jika Anda menggunakan data teks, data mentah sering kali mengandung nilai kosong, duplikasi, atau rentang nilai yang tidak konsisten, yang dapat memengaruhi kinerja model. Oleh karena itu, proses ini bertujuan untuk membersihkan dan mempersiapkan data agar analisis berjalan optimal.\r\n",
    "\r\n",
    "Berikut adalah tahapan-tahayang bisap\n",
    "- \r\n",
    "1. Menghapus atau Menangani Data Kosong (Missing Val\n",
    "karena data sudah cukup bersih dari sumber datasetnyaokan Data)\r\n",
    "\r\n",
    "Cukup sesuaikan dengan karakteristik data yang kamu gunakan yah. Khususnya ketika kami menggunakan data tidak terstruktur."
   ]
  },
  {
   "cell_type": "code",
   "execution_count": 6,
   "id": "4b12b7c9-2ed8-4889-865a-5a8e10fac631",
   "metadata": {},
   "outputs": [
    {
     "name": "stdout",
     "output_type": "stream",
     "text": [
      "Missing Value\n",
      "label             0\n",
      "title           207\n",
      "content           0\n",
      "text_length       0\n",
      "word_count        0\n",
      "title_length      0\n",
      "dtype: int64\n"
     ]
    }
   ],
   "source": [
    "# Selanjutnya cek missing Value\n",
    "print(\"Missing Value\")\n",
    "print(df.isnull().sum())"
   ]
  },
  {
   "cell_type": "code",
   "execution_count": 7,
   "id": "c12d7cf5-c0b6-4920-9804-cfcf1af26856",
   "metadata": {},
   "outputs": [
    {
     "name": "stdout",
     "output_type": "stream",
     "text": [
      "Missing Value\n",
      "label           0\n",
      "title           0\n",
      "content         0\n",
      "text_length     0\n",
      "word_count      0\n",
      "title_length    0\n",
      "dtype: int64\n"
     ]
    }
   ],
   "source": [
    "# Drop\n",
    "df.dropna(inplace=True)\n",
    "# Selanjutnya cek missing Value ulang\n",
    "print(\"Missing Value\")\n",
    "print(df.isnull().sum())"
   ]
  },
  {
   "cell_type": "code",
   "execution_count": 8,
   "id": "693f89fa-4a20-4f3c-800b-51bc76ec57e2",
   "metadata": {},
   "outputs": [
    {
     "name": "stdout",
     "output_type": "stream",
     "text": [
      "jumlah baris : 3599793\n",
      "jumlah kolom : 6\n",
      "------------------------------------------------------------------------------\n",
      "label\n",
      "1    1799913\n",
      "0    1799880\n",
      "Name: count, dtype: int64\n",
      "------------------------------------------------------------------------------\n",
      "title\n",
      "Disappointed                              9623\n",
      "Disappointing                             9169\n",
      "Excellent                                 4367\n",
      "Great                                     3530\n",
      "Don't waste your money                    3201\n",
      "                                          ... \n",
      "What A Slap In The Face To Masami Ueda       1\n",
      "Looks nice, low functionality                1\n",
      "compact, but hard to clean                   1\n",
      "what is it saying?                           1\n",
      "Makes My Blood Run Red-White-And-Blue        1\n",
      "Name: count, Length: 2628752, dtype: int64\n"
     ]
    }
   ],
   "source": [
    "#cek data\n",
    "print(f\"jumlah baris : {df.shape[0]}\")\n",
    "print(f\"jumlah kolom : {df.shape[1]}\")\n",
    "print(\"------------------------------------------------------------------------------\")\n",
    "print(df.iloc[:,0].value_counts())\n",
    "print(\"------------------------------------------------------------------------------\")\n",
    "print(df.iloc[:,1].value_counts())"
   ]
  },
  {
   "cell_type": "code",
   "execution_count": 9,
   "id": "ae7cc127-67f7-4d2f-a405-7d6f6b71f654",
   "metadata": {},
   "outputs": [
    {
     "name": "stdout",
     "output_type": "stream",
     "text": [
      "setelah sampling, total data: 200000\n",
      "distribusi label\n",
      "label\n",
      "1    100000\n",
      "0    100000\n",
      "Name: count, dtype: int64\n",
      "------------------------------------------------------------------------------\n",
      "   label                                              title  \\\n",
      "0      1                                  june of 44's best   \n",
      "1      0  Dont get this game its missing something impor...   \n",
      "2      1    awesome...they don't make'em like this anymore!   \n",
      "3      0             Utter waste of paper! Save your money.   \n",
      "4      0                       Disturbing and venomous tone   \n",
      "\n",
      "                                             content  text_length  word_count  \\\n",
      "0  this has to be june of 44's best album to date...          160          29   \n",
      "1  OK so i'm a big fan of the ddr series but ther...          545         108   \n",
      "2  this movie is pretty cool. they don't make rel...          545          97   \n",
      "3  Do not be fooled by the reference to Word Frea...          303          50   \n",
      "4  I was quite taken aback with the actual conten...          530          94   \n",
      "\n",
      "   title_length  \n",
      "0            17  \n",
      "1            50  \n",
      "2            47  \n",
      "3            38  \n",
      "4            28  \n"
     ]
    }
   ],
   "source": [
    "# split data\n",
    "positif = df[df.iloc[:,0] == 0]. sample(n=100_000, random_state=42)\n",
    "negatif = df[df.iloc[:,0] == 1]. sample(n=100_000, random_state=42)\n",
    "df_sampled = pd.concat([positif,negatif]).sample(frac=1,random_state=42).reset_index(drop=True)\n",
    "print(f\"setelah sampling, total data: {df_sampled.shape[0]}\")\n",
    "print(\"distribusi label\")\n",
    "print(df_sampled.iloc[:,0].value_counts())\n",
    "print(\"------------------------------------------------------------------------------\")\n",
    "print(df_sampled.head())"
   ]
  },
  {
   "cell_type": "code",
   "execution_count": 10,
   "id": "489a617e-aa44-4183-b7e7-0dc59c4438d9",
   "metadata": {},
   "outputs": [
    {
     "data": {
      "text/html": [
       "<div>\n",
       "<style scoped>\n",
       "    .dataframe tbody tr th:only-of-type {\n",
       "        vertical-align: middle;\n",
       "    }\n",
       "\n",
       "    .dataframe tbody tr th {\n",
       "        vertical-align: top;\n",
       "    }\n",
       "\n",
       "    .dataframe thead th {\n",
       "        text-align: right;\n",
       "    }\n",
       "</style>\n",
       "<table border=\"1\" class=\"dataframe\">\n",
       "  <thead>\n",
       "    <tr style=\"text-align: right;\">\n",
       "      <th></th>\n",
       "      <th>text_length</th>\n",
       "      <th>word_count</th>\n",
       "    </tr>\n",
       "  </thead>\n",
       "  <tbody>\n",
       "    <tr>\n",
       "      <th>count</th>\n",
       "      <td>200000.000000</td>\n",
       "      <td>200000.000000</td>\n",
       "    </tr>\n",
       "    <tr>\n",
       "      <th>mean</th>\n",
       "      <td>406.206165</td>\n",
       "      <td>74.346695</td>\n",
       "    </tr>\n",
       "    <tr>\n",
       "      <th>std</th>\n",
       "      <td>234.808914</td>\n",
       "      <td>42.377079</td>\n",
       "    </tr>\n",
       "    <tr>\n",
       "      <th>min</th>\n",
       "      <td>25.000000</td>\n",
       "      <td>4.000000</td>\n",
       "    </tr>\n",
       "    <tr>\n",
       "      <th>25%</th>\n",
       "      <td>208.000000</td>\n",
       "      <td>39.000000</td>\n",
       "    </tr>\n",
       "    <tr>\n",
       "      <th>50%</th>\n",
       "      <td>357.000000</td>\n",
       "      <td>66.000000</td>\n",
       "    </tr>\n",
       "    <tr>\n",
       "      <th>75%</th>\n",
       "      <td>567.000000</td>\n",
       "      <td>103.000000</td>\n",
       "    </tr>\n",
       "    <tr>\n",
       "      <th>max</th>\n",
       "      <td>1010.000000</td>\n",
       "      <td>213.000000</td>\n",
       "    </tr>\n",
       "  </tbody>\n",
       "</table>\n",
       "</div>"
      ],
      "text/plain": [
       "         text_length     word_count\n",
       "count  200000.000000  200000.000000\n",
       "mean      406.206165      74.346695\n",
       "std       234.808914      42.377079\n",
       "min        25.000000       4.000000\n",
       "25%       208.000000      39.000000\n",
       "50%       357.000000      66.000000\n",
       "75%       567.000000     103.000000\n",
       "max      1010.000000     213.000000"
      ]
     },
     "execution_count": 10,
     "metadata": {},
     "output_type": "execute_result"
    }
   ],
   "source": [
    "#\n",
    "# df_sampled.columns = ['label','title','content']\n",
    "# df_sampled['text_length'] = df_sampled['content'].apply(len)\n",
    "# df_sampled['word_count'] = df_sampled['content'].apply(lambda x: len(str(x).split()))\n",
    "\n",
    "  \n",
    "# print(f\" Panjang Teks : {df_sampled['text_length'].describe.to_}\")\n",
    "# print(f\" jumlah kata : {df_sampled['word_count'].describe}\")  \n",
    "# print(f\"Panjang Teks:\\n{df_sampled['text_length'].describe().to_string()}\")\n",
    "# print(f\"Jumlah Kata:\\n{df_sampled['word_count'].describe().to_string()}\")\n",
    "\n",
    "df_sampled[['text_length', 'word_count']].describe()\n"
   ]
  },
  {
   "cell_type": "code",
   "execution_count": 11,
   "id": "c959faf3-40f8-45f9-9e5a-174f367b13e4",
   "metadata": {},
   "outputs": [
    {
     "data": {
      "text/plain": [
       "<function matplotlib.pyplot.show(close=None, block=None)>"
      ]
     },
     "execution_count": 11,
     "metadata": {},
     "output_type": "execute_result"
    },
    {
     "data": {
      "image/png": "[encoded data removed]",
      "text/plain": [
       "<Figure size 1000x400 with 1 Axes>"
      ]
     },
     "metadata": {},
     "output_type": "display_data"
    }
   ],
   "source": [
    "# Distribusi Panjang Teks\n",
    "plt.figure(figsize=(10,4))\n",
    "sns.histplot(df_sampled['text_length'], bins=50, kde= True)\n",
    "plt.title(\"Distribusi Panjang Teks\")\n",
    "plt.xlabel(\"Jumlah Karakter\")\n",
    "plt.ylabel(\"Frekuensi\")\n",
    "plt.show"
   ]
  },
  {
   "cell_type": "code",
   "execution_count": 12,
   "id": "68557004-4bfb-4ace-9292-b91952f42c61",
   "metadata": {},
   "outputs": [
    {
     "data": {
      "text/plain": [
       "<function matplotlib.pyplot.show(close=None, block=None)>"
      ]
     },
     "execution_count": 12,
     "metadata": {},
     "output_type": "execute_result"
    },
    {
     "data": {
      "image/png": "[encoded data removed]",
      "text/plain": [
       "<Figure size 1000x400 with 1 Axes>"
      ]
     },
     "metadata": {},
     "output_type": "display_data"
    }
   ],
   "source": [
    "# Distribusi Panjang Teks\n",
    "plt.figure(figsize=(10,4))\n",
    "sns.histplot(df_sampled['word_count'], bins=50, kde= True)\n",
    "plt.title(\"Distribusi Panjang Teks\")\n",
    "plt.xlabel(\"Jumlah kata\")\n",
    "plt.ylabel(\"Frekuensi\")\n",
    "plt.show"
   ]
  },
  {
   "cell_type": "code",
   "execution_count": 14,
   "id": "90f683b4-6f18-4544-b0cc-9dc9e960eb76",
   "metadata": {},
   "outputs": [
    {
     "name": "stdout",
     "output_type": "stream",
     "text": [
      "✅ File berhasil disimpan di lokal: amazon_cleaned_preprocessing.csv\n"
     ]
    }
   ],
   "source": [
    "# Fungsi Cleaning\n",
    "def clean_text(content):\n",
    "    text = str(content).lower()\n",
    "    text = re.sub(r\"http\\S+|www\\S+\",\"\", content)\n",
    "    text = re.sub(r\"[^a-z\\s]\",\"\", content)\n",
    "    return text\n",
    "\n",
    "df_sampled['clean_text'] = df_sampled['content'].apply(clean_text)\n",
    "# df_sampled.to_csv(\"../dataset_amazon_preprocessing/amazon_cleaned_preprocessing.csv\", index=False)\n",
    "# Simpan ke lokal terlebih dahulu\n",
    "output_local = \"amazon_cleaned_preprocessing.csv\"\n",
    "df_sampled.to_csv(output_local, index=False)\n",
    "print(f\"✅ File berhasil disimpan di lokal: {output_local}\")\n"
   ]
  }
 ],
 "metadata": {
  "kernelspec": {
   "display_name": "EnvLab-Keindra",
   "language": "python",
   "name": "env-lab-keindra"
  },
  "language_info": {
   "codemirror_mode": {
    "name": "ipython",
    "version": 3
   },
   "file_extension": ".py",
   "mimetype": "text/x-python",
   "name": "python",
   "nbconvert_exporter": "python",
   "pygments_lexer": "ipython3",
   "version": "3.9.21"
  }
 },
 "nbformat": 4,
 "nbformat_minor": 5
}
